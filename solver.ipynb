{
 "cells": [
  {
   "cell_type": "code",
   "execution_count": 1,
   "id": "db08923f",
   "metadata": {
    "ExecuteTime": {
     "end_time": "2023-01-30T01:04:13.731255Z",
     "start_time": "2023-01-30T01:04:13.010498Z"
    }
   },
   "outputs": [],
   "source": [
    "from pyscipopt import Model, quicksum, multidict\n",
    "import pandas as pd\n",
    "import numpy as np"
   ]
  },
  {
   "cell_type": "code",
   "execution_count": 2,
   "id": "26889373",
   "metadata": {
    "ExecuteTime": {
     "end_time": "2023-01-30T01:04:14.795226Z",
     "start_time": "2023-01-30T01:04:13.736257Z"
    },
    "code_folding": []
   },
   "outputs": [],
   "source": [
    "# Loading data source\n",
    "\n",
    "# 1. WW build qty\n",
    "df_build = pd.read_csv('WW_buildplan.tab', sep='\\t')\n",
    "df_build = df_build[df_build['week']=='WW05']\n",
    "bp = dict(zip(df_build['prod'], df_build['build_qty']))\n",
    "\n",
    "\n",
    "# 2. Inventory\n",
    "\n",
    "df_inventory = pd.read_csv('inventory_filtered.tab', sep='\\t')\n",
    "\n",
    "\n",
    "# 3. Config file: vendor qualification & part qty per unit\n",
    "\n",
    "df_vendor_qual = pd.read_excel('config.xlsx', 'vendor_qualification')\n",
    "df_part_qty = pd.read_excel('config.xlsx', 'part_per_unit')\n",
    "df_part_qty['demand'] = df_part_qty.apply(lambda x: x['part_qty_per_unit'] * (bp[x['prodgroup3']]), axis=1)"
   ]
  },
  {
   "cell_type": "code",
   "execution_count": 3,
   "id": "552613c2",
   "metadata": {
    "ExecuteTime": {
     "end_time": "2023-01-30T01:04:14.809653Z",
     "start_time": "2023-01-30T01:04:14.798375Z"
    },
    "code_folding": []
   },
   "outputs": [],
   "source": [
    "def get_demand(prod, part_num):\n",
    "    try:\n",
    "        demand = df_part_qty.loc[(df_part_qty['prodgroup3'] == prod) & (df_part_qty['part_number'] == part_num), 'demand'].values[0]\n",
    "    except:\n",
    "        demand = 0\n",
    "    return demand"
   ]
  },
  {
   "cell_type": "code",
   "execution_count": 4,
   "id": "7695f42d",
   "metadata": {
    "ExecuteTime": {
     "end_time": "2023-01-30T01:04:14.830206Z",
     "start_time": "2023-01-30T01:04:14.811754Z"
    },
    "code_folding": []
   },
   "outputs": [],
   "source": [
    "def get_inventory(vendor, part_num):\n",
    "    \n",
    "    try:\n",
    "        inv = df_inventory[(df_inventory['itemid']==part_num)&(df_inventory['vendorname'].str.contains(vendor).fillna(False))]['inv_qty'].values[0]\n",
    "    except:\n",
    "        inv = 0\n",
    "        \n",
    "    return inv"
   ]
  },
  {
   "cell_type": "code",
   "execution_count": 5,
   "id": "337eeb1b",
   "metadata": {
    "ExecuteTime": {
     "end_time": "2023-01-30T01:04:14.895497Z",
     "start_time": "2023-01-30T01:04:14.834083Z"
    },
    "code_folding": []
   },
   "outputs": [
    {
     "name": "stdout",
     "output_type": "stream",
     "text": [
      "optimal\n"
     ]
    }
   ],
   "source": [
    "# Solver\n",
    "\n",
    "\n",
    "model = Model('single_vendor_mapping')\n",
    "\n",
    "\n",
    "# define a big-M: \n",
    "M = df_part_qty.demand.sum()\n",
    "\n",
    "\n",
    "# variables\n",
    "# x_ijk --> i: prod; j: part_number; k: vendor (Continuous)\n",
    "# y_ijk --> i: prod; j: part_number; k: vendor (Boolean)\n",
    "\n",
    "\n",
    "x, y = {}, {}\n",
    "\n",
    "for idx, row in df_vendor_qual.iterrows():\n",
    "    i, j, k = row['prodgroup3'], row['part_number'], row['qual_vendor']\n",
    "    x[i, j, k] = model.addVar(vtype=\"C\", name=\"x(%s,%s,%s)\" % (i, j, k))\n",
    "    y[i, j, k] = model.addVar(vtype=\"B\",name=\"y(%s,%s,%s)\" % (i, j, k))\n",
    "\n",
    "\n",
    "# Cons1: sum(x_ijk/per part_number&vendor) <= inventory\n",
    "\n",
    "for j in set(df_vendor_qual['part_number']):\n",
    "    for k in set(df_vendor_qual[df_vendor_qual['part_number']==j]['qual_vendor']):\n",
    "        inv = get_inventory(k, j)\n",
    "        prods = set(df_vendor_qual[(df_vendor_qual['part_number']==j)&(df_vendor_qual['qual_vendor']==k)]['prodgroup3'])\n",
    "        model.addCons(quicksum(x[i, j, k] for i in prods) <= inv)\n",
    "\n",
    "        \n",
    "# Cons2: sum(x_ijk per part_number&prod) == prod demand for that part\n",
    "\n",
    "for i in set(df_vendor_qual['prodgroup3']):\n",
    "    for j in set(df_vendor_qual[df_vendor_qual['prodgroup3']==i]['part_number']):\n",
    "        demand = get_demand(i, j)\n",
    "        vendors = set(df_vendor_qual[(df_vendor_qual['prodgroup3']==i)&(df_vendor_qual['part_number']==j)]['qual_vendor'])\n",
    "        model.addCons(quicksum(x[i, j, k] for k in vendors) == demand)\n",
    "        \n",
    "        \n",
    "# Cons3: single vendor -> for each prod for each part: only one vendor can be selected\n",
    "\n",
    "for i in set(df_vendor_qual['prodgroup3']):\n",
    "    for j in set(df_vendor_qual[df_vendor_qual['prodgroup3']==i]['part_number']):\n",
    "        vendors = set(df_vendor_qual[(df_vendor_qual['prodgroup3']==i)&(df_vendor_qual['part_number']==j)]['qual_vendor'])\n",
    "        model.addCons(quicksum(y[i, j, k] for k in vendors) == 1)\n",
    "\n",
    "\n",
    "# Cons4: only selected vendor can support the demand\n",
    "\n",
    "for i in set(df_vendor_qual['prodgroup3']):\n",
    "    for j in set(df_vendor_qual[df_vendor_qual['prodgroup3']==i]['part_number']):\n",
    "        vendors = set(df_vendor_qual[(df_vendor_qual['prodgroup3']==i)&(df_vendor_qual['part_number']==j)]['qual_vendor'])\n",
    "        for k in vendors:\n",
    "            model.addCons((x[i, j, k]/M) <= y[i, j, k])\n",
    "\n",
    "model.optimize()\n",
    "\n",
    "print(model.getStatus())"
   ]
  },
  {
   "cell_type": "code",
   "execution_count": 6,
   "id": "b1ebc296",
   "metadata": {
    "ExecuteTime": {
     "end_time": "2023-01-30T01:04:14.946520Z",
     "start_time": "2023-01-30T01:04:14.898501Z"
    },
    "code_folding": []
   },
   "outputs": [],
   "source": [
    "# Save result\n",
    "\n",
    "df_result = pd.DataFrame(columns=['prod', 'part_num', 'vendor', 'selected', 'qty'])\n",
    "\n",
    "for idx, row in df_vendor_qual.iterrows():\n",
    "    i, j, k = row['prodgroup3'], row['part_number'], row['qual_vendor']\n",
    "    \n",
    "    df_result.loc[len(df_result.index)] = [i, j, k, model.getVal(y[(i, j, k)]), model.getVal(x[(i, j, k)])] \n",
    "    \n",
    "df_result['selected'] = df_result['selected'].replace(1, 'Y')\n",
    "df_result['selected'] = df_result['selected'].replace(0, '')\n",
    "df_result['qty'] = df_result['qty'].replace(0, '')\n",
    "\n",
    "for idx, row in df_result.iterrows():\n",
    "    if row['selected'] != '':\n",
    "        vendor = row['vendor']\n",
    "        vendor_code = df_vendor_qual[df_vendor_qual['qual_vendor']==vendor]['vendor_code'].values[0]\n",
    "        df_result.at[idx, 'Lot Attribute'] = row['part_num'] + str(vendor_code)\n",
    "    else:\n",
    "        df_result.at[idx, 'Lot Attribute'] = ''\n",
    "\n",
    "df_result = df_result.sort_values(by=['prod', 'part_num'])"
   ]
  },
  {
   "cell_type": "code",
   "execution_count": 10,
   "id": "0188a2bb",
   "metadata": {
    "ExecuteTime": {
     "end_time": "2023-01-30T01:46:35.889854Z",
     "start_time": "2023-01-30T01:46:35.874573Z"
    }
   },
   "outputs": [
    {
     "data": {
      "text/html": [
       "<div>\n",
       "<style scoped>\n",
       "    .dataframe tbody tr th:only-of-type {\n",
       "        vertical-align: middle;\n",
       "    }\n",
       "\n",
       "    .dataframe tbody tr th {\n",
       "        vertical-align: top;\n",
       "    }\n",
       "\n",
       "    .dataframe thead th {\n",
       "        text-align: right;\n",
       "    }\n",
       "</style>\n",
       "<table border=\"1\" class=\"dataframe\">\n",
       "  <thead>\n",
       "    <tr style=\"text-align: right;\">\n",
       "      <th></th>\n",
       "      <th>prod</th>\n",
       "      <th>part_num</th>\n",
       "      <th>vendor</th>\n",
       "      <th>selected</th>\n",
       "      <th>qty</th>\n",
       "      <th>Lot Attribute</th>\n",
       "    </tr>\n",
       "  </thead>\n",
       "  <tbody>\n",
       "    <tr>\n",
       "      <th>1</th>\n",
       "      <td>PKR</td>\n",
       "      <td>C48956-004</td>\n",
       "      <td>MURATA</td>\n",
       "      <td>Y</td>\n",
       "      <td>15000.0</td>\n",
       "      <td>C48956-00461</td>\n",
       "    </tr>\n",
       "    <tr>\n",
       "      <th>2</th>\n",
       "      <td>PKR</td>\n",
       "      <td>C48956-010</td>\n",
       "      <td>MURATA</td>\n",
       "      <td>Y</td>\n",
       "      <td>15000.0</td>\n",
       "      <td>C48956-01061</td>\n",
       "    </tr>\n",
       "    <tr>\n",
       "      <th>0</th>\n",
       "      <td>PKR</td>\n",
       "      <td>J66920-002</td>\n",
       "      <td>MURATA</td>\n",
       "      <td>Y</td>\n",
       "      <td>15000.0</td>\n",
       "      <td>J66920-00261</td>\n",
       "    </tr>\n",
       "    <tr>\n",
       "      <th>4</th>\n",
       "      <td>SKR</td>\n",
       "      <td>C48956-004</td>\n",
       "      <td>MURATA</td>\n",
       "      <td>Y</td>\n",
       "      <td>10000.0</td>\n",
       "      <td>C48956-00461</td>\n",
       "    </tr>\n",
       "    <tr>\n",
       "      <th>5</th>\n",
       "      <td>SKR</td>\n",
       "      <td>C48956-004</td>\n",
       "      <td>AVX</td>\n",
       "      <td></td>\n",
       "      <td></td>\n",
       "      <td></td>\n",
       "    </tr>\n",
       "    <tr>\n",
       "      <th>6</th>\n",
       "      <td>SKR</td>\n",
       "      <td>C48956-010</td>\n",
       "      <td>MURATA</td>\n",
       "      <td>Y</td>\n",
       "      <td>10000.0</td>\n",
       "      <td>C48956-01061</td>\n",
       "    </tr>\n",
       "    <tr>\n",
       "      <th>7</th>\n",
       "      <td>SKR</td>\n",
       "      <td>C48956-010</td>\n",
       "      <td>SEMCO</td>\n",
       "      <td></td>\n",
       "      <td></td>\n",
       "      <td></td>\n",
       "    </tr>\n",
       "    <tr>\n",
       "      <th>3</th>\n",
       "      <td>SKR</td>\n",
       "      <td>J66920-002</td>\n",
       "      <td>MURATA</td>\n",
       "      <td>Y</td>\n",
       "      <td>10000.0</td>\n",
       "      <td>J66920-00261</td>\n",
       "    </tr>\n",
       "  </tbody>\n",
       "</table>\n",
       "</div>"
      ],
      "text/plain": [
       "  prod    part_num  vendor selected      qty Lot Attribute\n",
       "1  PKR  C48956-004  MURATA        Y  15000.0  C48956-00461\n",
       "2  PKR  C48956-010  MURATA        Y  15000.0  C48956-01061\n",
       "0  PKR  J66920-002  MURATA        Y  15000.0  J66920-00261\n",
       "4  SKR  C48956-004  MURATA        Y  10000.0  C48956-00461\n",
       "5  SKR  C48956-004     AVX                                \n",
       "6  SKR  C48956-010  MURATA        Y  10000.0  C48956-01061\n",
       "7  SKR  C48956-010   SEMCO                                \n",
       "3  SKR  J66920-002  MURATA        Y  10000.0  J66920-00261"
      ]
     },
     "execution_count": 10,
     "metadata": {},
     "output_type": "execute_result"
    }
   ],
   "source": [
    "df_result\n",
    "# df_result[df_result['selected']=='Y']"
   ]
  },
  {
   "cell_type": "code",
   "execution_count": null,
   "id": "5918a684",
   "metadata": {},
   "outputs": [],
   "source": [
    "'''\n",
    "-----------------------------------------------------------------\n",
    " BATCH |     LA7100       |     LA7101       |     LA7102       |\n",
    "----------------------------------------------------------------|\n",
    "  PKR  |   C48956-00461   |   C48956-01061   |   J66920-00261   |\n",
    "----------------------------------------------------------------|\n",
    "  SKR  |   C48956-00461   |   C48956-01061   |   J66920-00261   |\n",
    "-----------------------------------------------------------------\n",
    "'''"
   ]
  }
 ],
 "metadata": {
  "kernelspec": {
   "display_name": "Python 3 (ipykernel)",
   "language": "python",
   "name": "python3"
  },
  "language_info": {
   "codemirror_mode": {
    "name": "ipython",
    "version": 3
   },
   "file_extension": ".py",
   "mimetype": "text/x-python",
   "name": "python",
   "nbconvert_exporter": "python",
   "pygments_lexer": "ipython3",
   "version": "3.9.12"
  },
  "toc": {
   "base_numbering": 1,
   "nav_menu": {},
   "number_sections": true,
   "sideBar": true,
   "skip_h1_title": false,
   "title_cell": "Table of Contents",
   "title_sidebar": "Contents",
   "toc_cell": false,
   "toc_position": {},
   "toc_section_display": true,
   "toc_window_display": false
  }
 },
 "nbformat": 4,
 "nbformat_minor": 5
}
